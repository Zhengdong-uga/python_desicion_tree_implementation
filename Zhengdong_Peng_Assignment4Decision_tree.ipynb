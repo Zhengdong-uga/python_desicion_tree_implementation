{
  "nbformat": 4,
  "nbformat_minor": 0,
  "metadata": {
    "colab": {
      "provenance": []
    },
    "kernelspec": {
      "name": "python3",
      "display_name": "Python 3"
    },
    "language_info": {
      "name": "python"
    }
  },
  "cells": [
    {
      "cell_type": "markdown",
      "metadata": {
        "id": "LOn8G165fLp_"
      },
      "source": [
        "#  Assignment (Decision Tree implementation)\n",
        "\n",
        "In this assignment you have to implment the decision logic for the following decision tree (borrowed from a site)\n",
        "\n",
        "![Decision tree](https://d1jnx9ba8s6j9r.cloudfront.net/blog/wp-content/uploads/2015/01/Decision-Tree-Example-7-Decision-tree-Edureka.png)\n",
        "\n",
        "The goal of the decision tree is help identify whether a student purchases a computer or not. To that end there are some questions that need to be asked prior to the identification of the decision on computer purchase.\n",
        "\n",
        "In your python script you will do the following.\n",
        "\n",
        "1. Require a set of 4 inputs from the user\n",
        "        a. Income\n",
        "        b. Age\n",
        "        c. Credit Rating\n",
        "        d. Student or not\n",
        "\n",
        "2. Based on the set of inputs build a decision tree (if-elif-else) that identifies whether the individual is likely to purchase a computer or not.\n",
        "\n",
        "3. The boundaries for the inputs and the decision tree are as follows\n",
        "        a. Income - numerical data - Low income ( 0 - 25000), Medium income ( 25001 - 50000), High income ( 50001 +)\n",
        "        b. Age - numerical data based on the data in the decision tree\n",
        "        c. Credit Rating - Numerical data - Poor (<= 550), Fair (551 - 700), Excellent (701 +)\n",
        "\n",
        "\n",
        "Complete the script and provide code as a python ipynb file uploaded on a google drive folder available at \n",
        "[Submission on Google drive](https://drive.google.com/drive/folders/17uCrMc-MT6B8Ymc7jdmiuUUc9ALriyek?usp=sharing)\n",
        "as well as to the ELC dropbox folder. \n",
        "\n",
        "This assignment is due 04/09/2021."
      ]
    },
    {
      "cell_type": "code",
      "metadata": {
        "colab": {
          "base_uri": "https://localhost:8080/"
        },
        "id": "5g55l6s3fN6-",
        "outputId": "e075c15f-4ed1-4486-ce16-8d91d13534f9"
      },
      "source": [
        "#Approach 1 - Please type the pure number of income, Y/N, and Fair/Excellent BASED ON THE CONDITIONS IN THE DECISION TREE.\n",
        "##########CODE HERE\n",
        "\n",
        "income = int(input(\"Please put your monthly income here:\"))\n",
        "print()\n",
        "if (income > 50000):\n",
        "  print(\"What is your age?\")\n",
        "  age = int(input(\"Please put your age here:\"))\n",
        "  if (age <= 30):\n",
        "    print()\n",
        "    print(\"don't buy it\")\n",
        "  elif (age >= 31 and age <= 40):\n",
        "    print(\"buy it\")\n",
        "\n",
        "elif (income >25000 and income <= 50000):\n",
        "  cont = input(\"Are you student Y/N:\")\n",
        "  if (cont == \"Y\"):\n",
        "    print(\"buy it\")\n",
        "  \n",
        "  elif (cont == \"N\"):\n",
        "    print(\"What is your age then?\")\n",
        "    age = int(input(\"Please put your age here:\"))\n",
        "    if (age <= 30):\n",
        "      print()\n",
        "      print(\"don't buy it\")\n",
        "    elif (age >= 31 and age <= 40):\n",
        "      print()\n",
        "      print(\"buy it\")\n",
        "    elif (age > 40):\n",
        "      print(\"What is your credit rating?\")\n",
        "      creditRating = input(\"creditRating Fair/Excellent:\")\n",
        "      if (creditRating == \"Fair\"):\n",
        "        print(\"buy it\")\n",
        "        print()\n",
        "      elif (creditRating == \"Excellent\"):\n",
        "        print(\"don't buy it\")\n",
        "\n",
        "elif (income <= 25000):\n",
        "  print(\"How is your credit rating?\")\n",
        "  creditRating = input(\"creditRating Fair/Excellent:\")\n",
        "  if (creditRating == \"Fair\"):\n",
        "    print(\"buy it\")\n",
        "  elif (creditRating == \"Excellent\"):\n",
        "    print()\n",
        "    print(\"What's your age then?\")\n",
        "    age = int(input(\"Please put your age here:\"))\n",
        "    print()\n",
        "    if (age <= 40):\n",
        "      print(\"don't buy it\")\n",
        "    elif (age > 40):\n",
        "      print(\"buy it\")\n",
        "\n",
        "###########"
      ],
      "execution_count": null,
      "outputs": [
        {
          "output_type": "stream",
          "name": "stdout",
          "text": [
            "Please put your monthly income here:10000\n",
            "\n",
            "How is your credit rating?\n"
          ]
        }
      ]
    }
  ]
}